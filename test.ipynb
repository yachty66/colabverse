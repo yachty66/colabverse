{
  "nbformat": 4,
  "nbformat_minor": 0,
  "metadata": {
    "colab": {
      "provenance": [],
      "authorship_tag": "ABX9TyPYwZPQ/fo+61ODOeoP9pta",
      "include_colab_link": true
    },
    "kernelspec": {
      "name": "python3",
      "display_name": "Python 3"
    },
    "language_info": {
      "name": "python"
    }
  },
  "cells": [
    {
      "cell_type": "markdown",
      "metadata": {
        "id": "view-in-github",
        "colab_type": "text"
      },
      "source": [
        "<a href=\"https://colab.research.google.com/github/yachty66/colabverse/blob/main/test.ipynb\" target=\"_parent\"><img src=\"https://colab.research.google.com/assets/colab-badge.svg\" alt=\"Open In Colab\"/></a>"
      ]
    },
    {
      "cell_type": "code",
      "execution_count": null,
      "metadata": {
        "id": "_8XdNWZTRbF9"
      },
      "outputs": [],
      "source": [
        "d kemkfdmfddkamdm lkdm"
      ]
    },
    {
      "cell_type": "code",
      "source": [
        "hello my name"
      ],
      "metadata": {
        "id": "62IVCpyUUnk0"
      },
      "execution_count": null,
      "outputs": []
    }
  ]
}